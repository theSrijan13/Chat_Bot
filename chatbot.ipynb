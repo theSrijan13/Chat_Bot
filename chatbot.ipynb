{
 "cells": [
  {
   "cell_type": "code",
   "execution_count": 1,
   "id": "560e88c2",
   "metadata": {},
   "outputs": [
    {
     "name": "stdout",
     "output_type": "stream",
     "text": [
      "Hello! I'm Chatbot. How can I assist you today?\n",
      "\n",
      "I can help you with the following:\n",
      "1. Provide information.\n",
      "2. Answer questions.\n",
      "3. Share jokes.\n",
      "4. Give recommendations.\n",
      "5. Tell you a fun fact.\n",
      "What would you like to know? 5\n",
      "I'm sorry, I didn't understand that. Can you please rephrase?\n",
      "What's your favorite color? black\n",
      "You said: black\n",
      "Do you prefer cats or dogs? dogs\n",
      "You said: dogs\n",
      "What's your favorite season? winters\n",
      "You said: winters\n",
      "It was nice chatting with you! Goodbye.\n"
     ]
    }
   ],
   "source": [
    "# Chatbot Implementation\n",
    "\n",
    "def greeting():\n",
    "    \"\"\"Function to greet the user.\"\"\"\n",
    "    print(\"Hello! I'm Chatbot. How can I assist you today?\")\n",
    "\n",
    "def basic_questions():\n",
    "    \"\"\"Function to answer basic questions about the chatbot.\"\"\"\n",
    "    print(\"\\nI can help you with the following:\\n\"\n",
    "          \"1. Provide information.\\n\"\n",
    "          \"2. Answer questions.\\n\"\n",
    "          \"3. Share jokes.\\n\"\n",
    "          \"4. Give recommendations.\\n\"\n",
    "          \"5. Tell you a fun fact.\")\n",
    "\n",
    "def farewell():\n",
    "    \"\"\"Function to bid farewell to the user.\"\"\"\n",
    "    print(\"It was nice chatting with you! Goodbye.\")\n",
    "\n",
    "def ask_user_questions():\n",
    "    \"\"\"Function to interact with the user by asking questions.\"\"\"\n",
    "    questions = [\"What's your favorite color?\", \n",
    "                 \"Do you prefer cats or dogs?\", \n",
    "                 \"What's your favorite season?\"]\n",
    "    \n",
    "    for question in questions:\n",
    "        user_response = input(question + \" \")\n",
    "        print(f\"You said: {user_response}\")\n",
    "\n",
    "def chatbot_response(user_input):\n",
    "    \"\"\"Function to provide responses based on user input.\"\"\"\n",
    "    if \"hello\" in user_input.lower():\n",
    "        print(\"Hello there! How can I help you?\")\n",
    "    elif \"how are you\" in user_input.lower():\n",
    "        print(\"I'm just a program, but thanks for asking!\")\n",
    "    elif \"tell me a joke\" in user_input.lower():\n",
    "        print(\"Why don't skeletons fight each other? They don't have the guts!\")\n",
    "    elif \"tell me a fun fact\" in user_input.lower():\n",
    "        print(\"Did you know that honey never spoils? Archaeologists have found pots of honey in ancient Egyptian tombs \"\n",
    "              \"that are over 3,000 years old and still perfectly good to eat!\")\n",
    "    else:\n",
    "        print(\"I'm sorry, I didn't understand that. Can you please rephrase?\")\n",
    "        \n",
    "def main():\n",
    "    \"\"\"Main function to drive the chatbot interaction.\"\"\"\n",
    "    greeting()\n",
    "    \n",
    "    # Basic Q&A interaction\n",
    "    basic_questions()\n",
    "    user_input = input(\"What would you like to know? \")\n",
    "    chatbot_response(user_input)\n",
    "    \n",
    "    # Asking questions to the user\n",
    "    ask_user_questions()\n",
    "    \n",
    "    # Farewell message\n",
    "    farewell()\n",
    "\n",
    "if __name__ == \"__main__\":\n",
    "    main()\n"
   ]
  },
  {
   "cell_type": "code",
   "execution_count": 2,
   "id": "dab922ef",
   "metadata": {},
   "outputs": [
    {
     "name": "stdout",
     "output_type": "stream",
     "text": [
      "Requirement already satisfied: flask in c:\\users\\hp\\anaconda3\\lib\\site-packages (1.1.2)\n",
      "Requirement already satisfied: click>=5.1 in c:\\users\\hp\\anaconda3\\lib\\site-packages (from flask) (8.0.4)\n",
      "Requirement already satisfied: Jinja2>=2.10.1 in c:\\users\\hp\\anaconda3\\lib\\site-packages (from flask) (2.11.3)\n",
      "Requirement already satisfied: Werkzeug>=0.15 in c:\\users\\hp\\anaconda3\\lib\\site-packages (from flask) (2.0.2)\n",
      "Requirement already satisfied: itsdangerous>=0.24 in c:\\users\\hp\\anaconda3\\lib\\site-packages (from flask) (2.0.1)\n",
      "Requirement already satisfied: colorama in c:\\users\\hp\\anaconda3\\lib\\site-packages (from click>=5.1->flask) (0.4.4)\n",
      "Requirement already satisfied: MarkupSafe>=0.23 in c:\\users\\hp\\anaconda3\\lib\\site-packages (from Jinja2>=2.10.1->flask) (1.1.1)\n",
      "Note: you may need to restart the kernel to use updated packages.\n"
     ]
    }
   ],
   "source": [
    "pip install flask"
   ]
  },
  {
   "cell_type": "code",
   "execution_count": 3,
   "id": "0fccef40",
   "metadata": {},
   "outputs": [
    {
     "name": "stdout",
     "output_type": "stream",
     "text": [
      " * Serving Flask app \"__main__\" (lazy loading)\n",
      " * Environment: production\n",
      "\u001b[31m   WARNING: This is a development server. Do not use it in a production deployment.\u001b[0m\n",
      "\u001b[2m   Use a production WSGI server instead.\u001b[0m\n",
      " * Debug mode: on\n"
     ]
    },
    {
     "name": "stderr",
     "output_type": "stream",
     "text": [
      " * Restarting with watchdog (windowsapi)\n"
     ]
    },
    {
     "ename": "SystemExit",
     "evalue": "1",
     "output_type": "error",
     "traceback": [
      "An exception has occurred, use %tb to see the full traceback.\n",
      "\u001b[1;31mSystemExit\u001b[0m\u001b[1;31m:\u001b[0m 1\n"
     ]
    },
    {
     "name": "stderr",
     "output_type": "stream",
     "text": [
      "C:\\Users\\HP\\anaconda3\\lib\\site-packages\\IPython\\core\\interactiveshell.py:3452: UserWarning: To exit: use 'exit', 'quit', or Ctrl-D.\n",
      "  warn(\"To exit: use 'exit', 'quit', or Ctrl-D.\", stacklevel=1)\n"
     ]
    }
   ],
   "source": [
    "from flask import Flask, render_template, request, jsonify\n",
    "\n",
    "app = Flask(__name__)\n",
    "\n",
    "@app.route('/')\n",
    "def index():\n",
    "    \"\"\"Render the main HTML page.\"\"\"\n",
    "    return render_template('index.html')\n",
    "\n",
    "@app.route('/ask', methods=['POST'])\n",
    "def ask():\n",
    "    \"\"\"Handle the chatbot interactions.\"\"\"\n",
    "    user_input = request.form['user_input']\n",
    "\n",
    "    response = chatbot_response(user_input)\n",
    "    return jsonify({'response': response})\n",
    "\n",
    "def chatbot_response(user_input):\n",
    "    \"\"\"Function to provide responses based on user input.\"\"\"\n",
    "    if \"hello\" in user_input.lower():\n",
    "        return \"Hello there! How can I help you?\"\n",
    "    elif \"how are you\" in user_input.lower():\n",
    "        return \"I'm just a program, but thanks for asking!\"\n",
    "    elif \"tell me a joke\" in user_input.lower():\n",
    "        return \"Why don't skeletons fight each other? They don't have the guts!\"\n",
    "    elif \"tell me a fun fact\" in user_input.lower():\n",
    "        return \"Did you know that honey never spoils? Archaeologists have found pots of honey in ancient Egyptian tombs that are over 3,000 years old and still perfectly good to eat!\"\n",
    "    else:\n",
    "        return \"I'm sorry, I didn't understand that. Can you please rephrase?\"\n",
    "\n",
    "if __name__ == \"__main__\":\n",
    "    app.run(debug=True)\n"
   ]
  },
  {
   "cell_type": "code",
   "execution_count": null,
   "id": "d64eaa16",
   "metadata": {},
   "outputs": [],
   "source": []
  }
 ],
 "metadata": {
  "kernelspec": {
   "display_name": "Python 3 (ipykernel)",
   "language": "python",
   "name": "python3"
  },
  "language_info": {
   "codemirror_mode": {
    "name": "ipython",
    "version": 3
   },
   "file_extension": ".py",
   "mimetype": "text/x-python",
   "name": "python",
   "nbconvert_exporter": "python",
   "pygments_lexer": "ipython3",
   "version": "3.9.7"
  }
 },
 "nbformat": 4,
 "nbformat_minor": 5
}
